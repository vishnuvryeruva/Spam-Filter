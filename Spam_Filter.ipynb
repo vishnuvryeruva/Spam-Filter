{
  "nbformat": 4,
  "nbformat_minor": 0,
  "metadata": {
    "colab": {
      "name": "Spam Filter.ipynb",
      "provenance": [],
      "authorship_tag": "ABX9TyPJDmG94IpGsfnH33OxroF9",
      "include_colab_link": true
    },
    "kernelspec": {
      "name": "python3",
      "display_name": "Python 3"
    },
    "language_info": {
      "name": "python"
    }
  },
  "cells": [
    {
      "cell_type": "markdown",
      "metadata": {
        "id": "view-in-github",
        "colab_type": "text"
      },
      "source": [
        "<a href=\"https://colab.research.google.com/github/vishnuvryeruva/Spam-Filter/blob/main/Spam_Filter.ipynb\" target=\"_parent\"><img src=\"https://colab.research.google.com/assets/colab-badge.svg\" alt=\"Open In Colab\"/></a>"
      ]
    },
    {
      "cell_type": "code",
      "metadata": {
        "id": "A6dFn8-XZ93H"
      },
      "source": [
        "import numpy as np\n",
        "import pandas as pd"
      ],
      "execution_count": 1,
      "outputs": []
    },
    {
      "cell_type": "code",
      "metadata": {
        "id": "idOXwWWsaF4d"
      },
      "source": [
        "d1=[\"Free-Coupons for next movie. The above links will take you straight to our partner's site. For more information or to see other offers available, you can also visit the Grouponon the Working Advantage website\"\n",
        ",\"Free-Coupons for next movie. The above links will take you straight to our partner's site. For more information or to see other offers available, you can also visit the Grouponon the Working Advantage website\",\n",
        "\"Enter to win $25,000 and get a Free Hotel Night! Just click here for a $1 trial membership in NetMarket, the Internet'spremier discount shopping site:Fast Company EZVenture gives you FREE business articles,PLUS, you could win YOUR CHOICE of a BMW Z3 convertible, $100,000, shares of Microsoft stock, or a home office computer. Go there and get your chances to win now.A crazy-funny-cool trivia book with a $10,000 prize? PLUS chocolate, nail polish, cats, barnyard animals, and more?\",\n",
        "\"Dear recipient,Avangar Technologies announces the beginning of a new unprecendented global employment campaign. Due to company's exploding growth Avangar is expanding business to the European region. During last employment campaign over 1500 people worldwide took part in Avangar's businessand more than half of them are currently employed by the company. And now we are offering youone more opportunity to earn extra money working with Avangar Technologies.We are looking for honest, responsible, hard-working people that can dedicate 2-4 hours of theirtime per day and earn extra Â£300-500 weekly. All offered positions are currently part-time and give you a chance to work mainly from home\",\n",
        "\"I know that's an incredible statement, but bear with me while I explain. You have already deleted mail from dozens of \\\"Get Rich Quick\\\" schemes, chain letter offers, and LOTS of other absurd scams that promise to make you rich overnight with no investment and no work. My offer isn't one of those. What I'm offering is a straightforward computer-based service that you can run full-or part-time like a regular business. This service runs auto-matically while you sleep, vacation, or work a \\\"regular\\\" job. It provides a valuable new service for businesses in your area. I'm offering a high-tech, low-maintenance, work-from anywhere business that can bring in a nice comfortable additional income for your family. I did it for eight years. Since I started inviting others to join me, I've helped over 4000 do the same\"\n",
        "]"
      ],
      "execution_count": 2,
      "outputs": []
    },
    {
      "cell_type": "code",
      "metadata": {
        "id": "6uZJPhvnaMsr"
      },
      "source": [
        "dataframe=pd.DataFrame(d1, columns=['Message'])"
      ],
      "execution_count": 3,
      "outputs": []
    },
    {
      "cell_type": "code",
      "metadata": {
        "id": "atY69nnraPvd"
      },
      "source": [
        "d2 = [1]*5"
      ],
      "execution_count": 5,
      "outputs": []
    },
    {
      "cell_type": "code",
      "metadata": {
        "colab": {
          "base_uri": "https://localhost:8080/"
        },
        "id": "PyTxo-vcaYYR",
        "outputId": "653b8f84-8282-4f95-e204-653f2c1fb41a"
      },
      "source": [
        "d2"
      ],
      "execution_count": 6,
      "outputs": [
        {
          "output_type": "execute_result",
          "data": {
            "text/plain": [
              "[1, 1, 1, 1, 1]"
            ]
          },
          "metadata": {},
          "execution_count": 6
        }
      ]
    },
    {
      "cell_type": "code",
      "metadata": {
        "id": "5I5RTWrqaZZB"
      },
      "source": [
        "dataframe['Spam Status']=d2"
      ],
      "execution_count": 7,
      "outputs": []
    },
    {
      "cell_type": "code",
      "metadata": {
        "colab": {
          "base_uri": "https://localhost:8080/",
          "height": 206
        },
        "id": "Bao5yE__aeBB",
        "outputId": "8d768597-c187-4d3e-ddc2-e73246b1eeed"
      },
      "source": [
        "dataframe"
      ],
      "execution_count": 8,
      "outputs": [
        {
          "output_type": "execute_result",
          "data": {
            "text/html": [
              "<div>\n",
              "<style scoped>\n",
              "    .dataframe tbody tr th:only-of-type {\n",
              "        vertical-align: middle;\n",
              "    }\n",
              "\n",
              "    .dataframe tbody tr th {\n",
              "        vertical-align: top;\n",
              "    }\n",
              "\n",
              "    .dataframe thead th {\n",
              "        text-align: right;\n",
              "    }\n",
              "</style>\n",
              "<table border=\"1\" class=\"dataframe\">\n",
              "  <thead>\n",
              "    <tr style=\"text-align: right;\">\n",
              "      <th></th>\n",
              "      <th>Message</th>\n",
              "      <th>Spam Status</th>\n",
              "    </tr>\n",
              "  </thead>\n",
              "  <tbody>\n",
              "    <tr>\n",
              "      <th>0</th>\n",
              "      <td>Free-Coupons for next movie. The above links w...</td>\n",
              "      <td>1</td>\n",
              "    </tr>\n",
              "    <tr>\n",
              "      <th>1</th>\n",
              "      <td>Free-Coupons for next movie. The above links w...</td>\n",
              "      <td>1</td>\n",
              "    </tr>\n",
              "    <tr>\n",
              "      <th>2</th>\n",
              "      <td>Enter to win $25,000 and get a Free Hotel Nigh...</td>\n",
              "      <td>1</td>\n",
              "    </tr>\n",
              "    <tr>\n",
              "      <th>3</th>\n",
              "      <td>Dear recipient,Avangar Technologies announces ...</td>\n",
              "      <td>1</td>\n",
              "    </tr>\n",
              "    <tr>\n",
              "      <th>4</th>\n",
              "      <td>I know that's an incredible statement, but bea...</td>\n",
              "      <td>1</td>\n",
              "    </tr>\n",
              "  </tbody>\n",
              "</table>\n",
              "</div>"
            ],
            "text/plain": [
              "                                             Message  Spam Status\n",
              "0  Free-Coupons for next movie. The above links w...            1\n",
              "1  Free-Coupons for next movie. The above links w...            1\n",
              "2  Enter to win $25,000 and get a Free Hotel Nigh...            1\n",
              "3  Dear recipient,Avangar Technologies announces ...            1\n",
              "4  I know that's an incredible statement, but bea...            1"
            ]
          },
          "metadata": {},
          "execution_count": 8
        }
      ]
    },
    {
      "cell_type": "code",
      "metadata": {
        "id": "m0VU-df4aevK"
      },
      "source": [
        "from sklearn.feature_extraction.text import TfidfVectorizer\n",
        "vectorizer = TfidfVectorizer()"
      ],
      "execution_count": 9,
      "outputs": []
    },
    {
      "cell_type": "code",
      "metadata": {
        "id": "u8hwTYGdakY5"
      },
      "source": [
        "vectors = vectorizer.fit_transform(dataframe[\"Message\"])\n",
        "feature_names = vectorizer.get_feature_names()"
      ],
      "execution_count": 10,
      "outputs": []
    },
    {
      "cell_type": "code",
      "metadata": {
        "id": "dZTKKi2qame1"
      },
      "source": [
        "dense = vectors.todense()"
      ],
      "execution_count": 11,
      "outputs": []
    },
    {
      "cell_type": "code",
      "metadata": {
        "id": "7e-agAszaoae"
      },
      "source": [
        "denselist = dense.tolist()"
      ],
      "execution_count": 12,
      "outputs": []
    },
    {
      "cell_type": "code",
      "metadata": {
        "id": "0t_dlD-oaqgx"
      },
      "source": [
        "df = pd.DataFrame(denselist, columns=feature_names)"
      ],
      "execution_count": 13,
      "outputs": []
    },
    {
      "cell_type": "code",
      "metadata": {
        "colab": {
          "base_uri": "https://localhost:8080/",
          "height": 255
        },
        "id": "FITXfRqaarwk",
        "outputId": "7e4b55af-076d-4d9e-d146-eea123e691f4"
      },
      "source": [
        "df"
      ],
      "execution_count": 14,
      "outputs": [
        {
          "output_type": "execute_result",
          "data": {
            "text/html": [
              "<div>\n",
              "<style scoped>\n",
              "    .dataframe tbody tr th:only-of-type {\n",
              "        vertical-align: middle;\n",
              "    }\n",
              "\n",
              "    .dataframe tbody tr th {\n",
              "        vertical-align: top;\n",
              "    }\n",
              "\n",
              "    .dataframe thead th {\n",
              "        text-align: right;\n",
              "    }\n",
              "</style>\n",
              "<table border=\"1\" class=\"dataframe\">\n",
              "  <thead>\n",
              "    <tr style=\"text-align: right;\">\n",
              "      <th></th>\n",
              "      <th>000</th>\n",
              "      <th>10</th>\n",
              "      <th>100</th>\n",
              "      <th>1500</th>\n",
              "      <th>25</th>\n",
              "      <th>300</th>\n",
              "      <th>4000</th>\n",
              "      <th>500</th>\n",
              "      <th>above</th>\n",
              "      <th>absurd</th>\n",
              "      <th>additional</th>\n",
              "      <th>advantage</th>\n",
              "      <th>all</th>\n",
              "      <th>already</th>\n",
              "      <th>also</th>\n",
              "      <th>an</th>\n",
              "      <th>and</th>\n",
              "      <th>animals</th>\n",
              "      <th>announces</th>\n",
              "      <th>anywhere</th>\n",
              "      <th>are</th>\n",
              "      <th>area</th>\n",
              "      <th>articles</th>\n",
              "      <th>auto</th>\n",
              "      <th>available</th>\n",
              "      <th>avangar</th>\n",
              "      <th>barnyard</th>\n",
              "      <th>based</th>\n",
              "      <th>bear</th>\n",
              "      <th>beginning</th>\n",
              "      <th>bmw</th>\n",
              "      <th>book</th>\n",
              "      <th>bring</th>\n",
              "      <th>business</th>\n",
              "      <th>businessand</th>\n",
              "      <th>businesses</th>\n",
              "      <th>but</th>\n",
              "      <th>by</th>\n",
              "      <th>campaign</th>\n",
              "      <th>can</th>\n",
              "      <th>...</th>\n",
              "      <th>stock</th>\n",
              "      <th>straight</th>\n",
              "      <th>straightforward</th>\n",
              "      <th>take</th>\n",
              "      <th>tech</th>\n",
              "      <th>technologies</th>\n",
              "      <th>than</th>\n",
              "      <th>that</th>\n",
              "      <th>the</th>\n",
              "      <th>theirtime</th>\n",
              "      <th>them</th>\n",
              "      <th>there</th>\n",
              "      <th>this</th>\n",
              "      <th>those</th>\n",
              "      <th>time</th>\n",
              "      <th>to</th>\n",
              "      <th>took</th>\n",
              "      <th>trial</th>\n",
              "      <th>trivia</th>\n",
              "      <th>unprecendented</th>\n",
              "      <th>vacation</th>\n",
              "      <th>valuable</th>\n",
              "      <th>ve</th>\n",
              "      <th>visit</th>\n",
              "      <th>we</th>\n",
              "      <th>website</th>\n",
              "      <th>weekly</th>\n",
              "      <th>what</th>\n",
              "      <th>while</th>\n",
              "      <th>will</th>\n",
              "      <th>win</th>\n",
              "      <th>with</th>\n",
              "      <th>work</th>\n",
              "      <th>working</th>\n",
              "      <th>worldwide</th>\n",
              "      <th>years</th>\n",
              "      <th>you</th>\n",
              "      <th>youone</th>\n",
              "      <th>your</th>\n",
              "      <th>z3</th>\n",
              "    </tr>\n",
              "  </thead>\n",
              "  <tbody>\n",
              "    <tr>\n",
              "      <th>0</th>\n",
              "      <td>0.000000</td>\n",
              "      <td>0.000000</td>\n",
              "      <td>0.000000</td>\n",
              "      <td>0.000000</td>\n",
              "      <td>0.000000</td>\n",
              "      <td>0.000000</td>\n",
              "      <td>0.000000</td>\n",
              "      <td>0.000000</td>\n",
              "      <td>0.181868</td>\n",
              "      <td>0.000000</td>\n",
              "      <td>0.000000</td>\n",
              "      <td>0.181868</td>\n",
              "      <td>0.000000</td>\n",
              "      <td>0.000000</td>\n",
              "      <td>0.181868</td>\n",
              "      <td>0.000000</td>\n",
              "      <td>0.000000</td>\n",
              "      <td>0.000000</td>\n",
              "      <td>0.000000</td>\n",
              "      <td>0.000000</td>\n",
              "      <td>0.000000</td>\n",
              "      <td>0.000000</td>\n",
              "      <td>0.000000</td>\n",
              "      <td>0.000000</td>\n",
              "      <td>0.181868</td>\n",
              "      <td>0.000000</td>\n",
              "      <td>0.000000</td>\n",
              "      <td>0.000000</td>\n",
              "      <td>0.000000</td>\n",
              "      <td>0.000000</td>\n",
              "      <td>0.000000</td>\n",
              "      <td>0.000000</td>\n",
              "      <td>0.000000</td>\n",
              "      <td>0.000000</td>\n",
              "      <td>0.000000</td>\n",
              "      <td>0.000000</td>\n",
              "      <td>0.000000</td>\n",
              "      <td>0.000000</td>\n",
              "      <td>0.000000</td>\n",
              "      <td>0.126998</td>\n",
              "      <td>...</td>\n",
              "      <td>0.000000</td>\n",
              "      <td>0.181868</td>\n",
              "      <td>0.000000</td>\n",
              "      <td>0.181868</td>\n",
              "      <td>0.000000</td>\n",
              "      <td>0.000000</td>\n",
              "      <td>0.000000</td>\n",
              "      <td>0.000000</td>\n",
              "      <td>0.322242</td>\n",
              "      <td>0.000000</td>\n",
              "      <td>0.000000</td>\n",
              "      <td>0.000000</td>\n",
              "      <td>0.000000</td>\n",
              "      <td>0.000000</td>\n",
              "      <td>0.000000</td>\n",
              "      <td>0.214828</td>\n",
              "      <td>0.000000</td>\n",
              "      <td>0.000000</td>\n",
              "      <td>0.000000</td>\n",
              "      <td>0.000000</td>\n",
              "      <td>0.000000</td>\n",
              "      <td>0.000000</td>\n",
              "      <td>0.000000</td>\n",
              "      <td>0.181868</td>\n",
              "      <td>0.000000</td>\n",
              "      <td>0.181868</td>\n",
              "      <td>0.000000</td>\n",
              "      <td>0.000000</td>\n",
              "      <td>0.000000</td>\n",
              "      <td>0.181868</td>\n",
              "      <td>0.000000</td>\n",
              "      <td>0.000000</td>\n",
              "      <td>0.000000</td>\n",
              "      <td>0.150967</td>\n",
              "      <td>0.000000</td>\n",
              "      <td>0.000000</td>\n",
              "      <td>0.214828</td>\n",
              "      <td>0.000000</td>\n",
              "      <td>0.000000</td>\n",
              "      <td>0.000000</td>\n",
              "    </tr>\n",
              "    <tr>\n",
              "      <th>1</th>\n",
              "      <td>0.000000</td>\n",
              "      <td>0.000000</td>\n",
              "      <td>0.000000</td>\n",
              "      <td>0.000000</td>\n",
              "      <td>0.000000</td>\n",
              "      <td>0.000000</td>\n",
              "      <td>0.000000</td>\n",
              "      <td>0.000000</td>\n",
              "      <td>0.181868</td>\n",
              "      <td>0.000000</td>\n",
              "      <td>0.000000</td>\n",
              "      <td>0.181868</td>\n",
              "      <td>0.000000</td>\n",
              "      <td>0.000000</td>\n",
              "      <td>0.181868</td>\n",
              "      <td>0.000000</td>\n",
              "      <td>0.000000</td>\n",
              "      <td>0.000000</td>\n",
              "      <td>0.000000</td>\n",
              "      <td>0.000000</td>\n",
              "      <td>0.000000</td>\n",
              "      <td>0.000000</td>\n",
              "      <td>0.000000</td>\n",
              "      <td>0.000000</td>\n",
              "      <td>0.181868</td>\n",
              "      <td>0.000000</td>\n",
              "      <td>0.000000</td>\n",
              "      <td>0.000000</td>\n",
              "      <td>0.000000</td>\n",
              "      <td>0.000000</td>\n",
              "      <td>0.000000</td>\n",
              "      <td>0.000000</td>\n",
              "      <td>0.000000</td>\n",
              "      <td>0.000000</td>\n",
              "      <td>0.000000</td>\n",
              "      <td>0.000000</td>\n",
              "      <td>0.000000</td>\n",
              "      <td>0.000000</td>\n",
              "      <td>0.000000</td>\n",
              "      <td>0.126998</td>\n",
              "      <td>...</td>\n",
              "      <td>0.000000</td>\n",
              "      <td>0.181868</td>\n",
              "      <td>0.000000</td>\n",
              "      <td>0.181868</td>\n",
              "      <td>0.000000</td>\n",
              "      <td>0.000000</td>\n",
              "      <td>0.000000</td>\n",
              "      <td>0.000000</td>\n",
              "      <td>0.322242</td>\n",
              "      <td>0.000000</td>\n",
              "      <td>0.000000</td>\n",
              "      <td>0.000000</td>\n",
              "      <td>0.000000</td>\n",
              "      <td>0.000000</td>\n",
              "      <td>0.000000</td>\n",
              "      <td>0.214828</td>\n",
              "      <td>0.000000</td>\n",
              "      <td>0.000000</td>\n",
              "      <td>0.000000</td>\n",
              "      <td>0.000000</td>\n",
              "      <td>0.000000</td>\n",
              "      <td>0.000000</td>\n",
              "      <td>0.000000</td>\n",
              "      <td>0.181868</td>\n",
              "      <td>0.000000</td>\n",
              "      <td>0.181868</td>\n",
              "      <td>0.000000</td>\n",
              "      <td>0.000000</td>\n",
              "      <td>0.000000</td>\n",
              "      <td>0.181868</td>\n",
              "      <td>0.000000</td>\n",
              "      <td>0.000000</td>\n",
              "      <td>0.000000</td>\n",
              "      <td>0.150967</td>\n",
              "      <td>0.000000</td>\n",
              "      <td>0.000000</td>\n",
              "      <td>0.214828</td>\n",
              "      <td>0.000000</td>\n",
              "      <td>0.000000</td>\n",
              "      <td>0.000000</td>\n",
              "    </tr>\n",
              "    <tr>\n",
              "      <th>2</th>\n",
              "      <td>0.323244</td>\n",
              "      <td>0.107748</td>\n",
              "      <td>0.107748</td>\n",
              "      <td>0.000000</td>\n",
              "      <td>0.107748</td>\n",
              "      <td>0.000000</td>\n",
              "      <td>0.000000</td>\n",
              "      <td>0.000000</td>\n",
              "      <td>0.000000</td>\n",
              "      <td>0.000000</td>\n",
              "      <td>0.000000</td>\n",
              "      <td>0.000000</td>\n",
              "      <td>0.000000</td>\n",
              "      <td>0.000000</td>\n",
              "      <td>0.000000</td>\n",
              "      <td>0.000000</td>\n",
              "      <td>0.216481</td>\n",
              "      <td>0.107748</td>\n",
              "      <td>0.000000</td>\n",
              "      <td>0.000000</td>\n",
              "      <td>0.000000</td>\n",
              "      <td>0.000000</td>\n",
              "      <td>0.107748</td>\n",
              "      <td>0.000000</td>\n",
              "      <td>0.000000</td>\n",
              "      <td>0.000000</td>\n",
              "      <td>0.107748</td>\n",
              "      <td>0.000000</td>\n",
              "      <td>0.000000</td>\n",
              "      <td>0.000000</td>\n",
              "      <td>0.107748</td>\n",
              "      <td>0.107748</td>\n",
              "      <td>0.000000</td>\n",
              "      <td>0.072160</td>\n",
              "      <td>0.000000</td>\n",
              "      <td>0.000000</td>\n",
              "      <td>0.000000</td>\n",
              "      <td>0.000000</td>\n",
              "      <td>0.000000</td>\n",
              "      <td>0.000000</td>\n",
              "      <td>...</td>\n",
              "      <td>0.107748</td>\n",
              "      <td>0.000000</td>\n",
              "      <td>0.000000</td>\n",
              "      <td>0.000000</td>\n",
              "      <td>0.000000</td>\n",
              "      <td>0.000000</td>\n",
              "      <td>0.000000</td>\n",
              "      <td>0.000000</td>\n",
              "      <td>0.051343</td>\n",
              "      <td>0.000000</td>\n",
              "      <td>0.000000</td>\n",
              "      <td>0.107748</td>\n",
              "      <td>0.000000</td>\n",
              "      <td>0.000000</td>\n",
              "      <td>0.000000</td>\n",
              "      <td>0.102685</td>\n",
              "      <td>0.000000</td>\n",
              "      <td>0.107748</td>\n",
              "      <td>0.107748</td>\n",
              "      <td>0.000000</td>\n",
              "      <td>0.000000</td>\n",
              "      <td>0.000000</td>\n",
              "      <td>0.000000</td>\n",
              "      <td>0.000000</td>\n",
              "      <td>0.000000</td>\n",
              "      <td>0.000000</td>\n",
              "      <td>0.000000</td>\n",
              "      <td>0.000000</td>\n",
              "      <td>0.000000</td>\n",
              "      <td>0.000000</td>\n",
              "      <td>0.323244</td>\n",
              "      <td>0.072160</td>\n",
              "      <td>0.000000</td>\n",
              "      <td>0.000000</td>\n",
              "      <td>0.000000</td>\n",
              "      <td>0.000000</td>\n",
              "      <td>0.102685</td>\n",
              "      <td>0.000000</td>\n",
              "      <td>0.173861</td>\n",
              "      <td>0.107748</td>\n",
              "    </tr>\n",
              "    <tr>\n",
              "      <th>3</th>\n",
              "      <td>0.000000</td>\n",
              "      <td>0.000000</td>\n",
              "      <td>0.000000</td>\n",
              "      <td>0.084927</td>\n",
              "      <td>0.000000</td>\n",
              "      <td>0.084927</td>\n",
              "      <td>0.000000</td>\n",
              "      <td>0.084927</td>\n",
              "      <td>0.000000</td>\n",
              "      <td>0.000000</td>\n",
              "      <td>0.000000</td>\n",
              "      <td>0.000000</td>\n",
              "      <td>0.084927</td>\n",
              "      <td>0.000000</td>\n",
              "      <td>0.000000</td>\n",
              "      <td>0.000000</td>\n",
              "      <td>0.170629</td>\n",
              "      <td>0.000000</td>\n",
              "      <td>0.084927</td>\n",
              "      <td>0.000000</td>\n",
              "      <td>0.339707</td>\n",
              "      <td>0.000000</td>\n",
              "      <td>0.000000</td>\n",
              "      <td>0.000000</td>\n",
              "      <td>0.000000</td>\n",
              "      <td>0.339707</td>\n",
              "      <td>0.000000</td>\n",
              "      <td>0.000000</td>\n",
              "      <td>0.000000</td>\n",
              "      <td>0.084927</td>\n",
              "      <td>0.000000</td>\n",
              "      <td>0.000000</td>\n",
              "      <td>0.000000</td>\n",
              "      <td>0.056876</td>\n",
              "      <td>0.084927</td>\n",
              "      <td>0.000000</td>\n",
              "      <td>0.000000</td>\n",
              "      <td>0.084927</td>\n",
              "      <td>0.169854</td>\n",
              "      <td>0.047846</td>\n",
              "      <td>...</td>\n",
              "      <td>0.000000</td>\n",
              "      <td>0.000000</td>\n",
              "      <td>0.000000</td>\n",
              "      <td>0.000000</td>\n",
              "      <td>0.000000</td>\n",
              "      <td>0.169854</td>\n",
              "      <td>0.084927</td>\n",
              "      <td>0.068518</td>\n",
              "      <td>0.121404</td>\n",
              "      <td>0.084927</td>\n",
              "      <td>0.084927</td>\n",
              "      <td>0.000000</td>\n",
              "      <td>0.000000</td>\n",
              "      <td>0.000000</td>\n",
              "      <td>0.068518</td>\n",
              "      <td>0.161872</td>\n",
              "      <td>0.084927</td>\n",
              "      <td>0.000000</td>\n",
              "      <td>0.000000</td>\n",
              "      <td>0.084927</td>\n",
              "      <td>0.000000</td>\n",
              "      <td>0.000000</td>\n",
              "      <td>0.000000</td>\n",
              "      <td>0.000000</td>\n",
              "      <td>0.169854</td>\n",
              "      <td>0.000000</td>\n",
              "      <td>0.084927</td>\n",
              "      <td>0.000000</td>\n",
              "      <td>0.000000</td>\n",
              "      <td>0.000000</td>\n",
              "      <td>0.000000</td>\n",
              "      <td>0.056876</td>\n",
              "      <td>0.068518</td>\n",
              "      <td>0.113753</td>\n",
              "      <td>0.084927</td>\n",
              "      <td>0.000000</td>\n",
              "      <td>0.040468</td>\n",
              "      <td>0.084927</td>\n",
              "      <td>0.000000</td>\n",
              "      <td>0.000000</td>\n",
              "    </tr>\n",
              "    <tr>\n",
              "      <th>4</th>\n",
              "      <td>0.000000</td>\n",
              "      <td>0.000000</td>\n",
              "      <td>0.000000</td>\n",
              "      <td>0.000000</td>\n",
              "      <td>0.000000</td>\n",
              "      <td>0.000000</td>\n",
              "      <td>0.081084</td>\n",
              "      <td>0.000000</td>\n",
              "      <td>0.000000</td>\n",
              "      <td>0.081084</td>\n",
              "      <td>0.081084</td>\n",
              "      <td>0.000000</td>\n",
              "      <td>0.000000</td>\n",
              "      <td>0.081084</td>\n",
              "      <td>0.000000</td>\n",
              "      <td>0.081084</td>\n",
              "      <td>0.108605</td>\n",
              "      <td>0.000000</td>\n",
              "      <td>0.000000</td>\n",
              "      <td>0.081084</td>\n",
              "      <td>0.000000</td>\n",
              "      <td>0.081084</td>\n",
              "      <td>0.000000</td>\n",
              "      <td>0.081084</td>\n",
              "      <td>0.000000</td>\n",
              "      <td>0.000000</td>\n",
              "      <td>0.000000</td>\n",
              "      <td>0.081084</td>\n",
              "      <td>0.081084</td>\n",
              "      <td>0.000000</td>\n",
              "      <td>0.000000</td>\n",
              "      <td>0.000000</td>\n",
              "      <td>0.081084</td>\n",
              "      <td>0.108605</td>\n",
              "      <td>0.000000</td>\n",
              "      <td>0.081084</td>\n",
              "      <td>0.081084</td>\n",
              "      <td>0.000000</td>\n",
              "      <td>0.000000</td>\n",
              "      <td>0.091362</td>\n",
              "      <td>...</td>\n",
              "      <td>0.000000</td>\n",
              "      <td>0.000000</td>\n",
              "      <td>0.081084</td>\n",
              "      <td>0.000000</td>\n",
              "      <td>0.081084</td>\n",
              "      <td>0.000000</td>\n",
              "      <td>0.000000</td>\n",
              "      <td>0.261671</td>\n",
              "      <td>0.038637</td>\n",
              "      <td>0.000000</td>\n",
              "      <td>0.000000</td>\n",
              "      <td>0.000000</td>\n",
              "      <td>0.081084</td>\n",
              "      <td>0.081084</td>\n",
              "      <td>0.065418</td>\n",
              "      <td>0.077274</td>\n",
              "      <td>0.000000</td>\n",
              "      <td>0.000000</td>\n",
              "      <td>0.000000</td>\n",
              "      <td>0.000000</td>\n",
              "      <td>0.081084</td>\n",
              "      <td>0.081084</td>\n",
              "      <td>0.081084</td>\n",
              "      <td>0.000000</td>\n",
              "      <td>0.000000</td>\n",
              "      <td>0.000000</td>\n",
              "      <td>0.000000</td>\n",
              "      <td>0.081084</td>\n",
              "      <td>0.162168</td>\n",
              "      <td>0.000000</td>\n",
              "      <td>0.000000</td>\n",
              "      <td>0.108605</td>\n",
              "      <td>0.196254</td>\n",
              "      <td>0.000000</td>\n",
              "      <td>0.000000</td>\n",
              "      <td>0.081084</td>\n",
              "      <td>0.154547</td>\n",
              "      <td>0.000000</td>\n",
              "      <td>0.130836</td>\n",
              "      <td>0.000000</td>\n",
              "    </tr>\n",
              "  </tbody>\n",
              "</table>\n",
              "<p>5 rows × 227 columns</p>\n",
              "</div>"
            ],
            "text/plain": [
              "        000        10       100  ...    youone      your        z3\n",
              "0  0.000000  0.000000  0.000000  ...  0.000000  0.000000  0.000000\n",
              "1  0.000000  0.000000  0.000000  ...  0.000000  0.000000  0.000000\n",
              "2  0.323244  0.107748  0.107748  ...  0.000000  0.173861  0.107748\n",
              "3  0.000000  0.000000  0.000000  ...  0.084927  0.000000  0.000000\n",
              "4  0.000000  0.000000  0.000000  ...  0.000000  0.130836  0.000000\n",
              "\n",
              "[5 rows x 227 columns]"
            ]
          },
          "metadata": {},
          "execution_count": 14
        }
      ]
    },
    {
      "cell_type": "code",
      "metadata": {
        "colab": {
          "base_uri": "https://localhost:8080/",
          "height": 206
        },
        "id": "qeiDdixXas5Z",
        "outputId": "07ddf42d-03ff-445b-bbf4-fc0e4ece513d"
      },
      "source": [
        "dataframe.head(10)"
      ],
      "execution_count": 15,
      "outputs": [
        {
          "output_type": "execute_result",
          "data": {
            "text/html": [
              "<div>\n",
              "<style scoped>\n",
              "    .dataframe tbody tr th:only-of-type {\n",
              "        vertical-align: middle;\n",
              "    }\n",
              "\n",
              "    .dataframe tbody tr th {\n",
              "        vertical-align: top;\n",
              "    }\n",
              "\n",
              "    .dataframe thead th {\n",
              "        text-align: right;\n",
              "    }\n",
              "</style>\n",
              "<table border=\"1\" class=\"dataframe\">\n",
              "  <thead>\n",
              "    <tr style=\"text-align: right;\">\n",
              "      <th></th>\n",
              "      <th>Message</th>\n",
              "      <th>Spam Status</th>\n",
              "    </tr>\n",
              "  </thead>\n",
              "  <tbody>\n",
              "    <tr>\n",
              "      <th>0</th>\n",
              "      <td>Free-Coupons for next movie. The above links w...</td>\n",
              "      <td>1</td>\n",
              "    </tr>\n",
              "    <tr>\n",
              "      <th>1</th>\n",
              "      <td>Free-Coupons for next movie. The above links w...</td>\n",
              "      <td>1</td>\n",
              "    </tr>\n",
              "    <tr>\n",
              "      <th>2</th>\n",
              "      <td>Enter to win $25,000 and get a Free Hotel Nigh...</td>\n",
              "      <td>1</td>\n",
              "    </tr>\n",
              "    <tr>\n",
              "      <th>3</th>\n",
              "      <td>Dear recipient,Avangar Technologies announces ...</td>\n",
              "      <td>1</td>\n",
              "    </tr>\n",
              "    <tr>\n",
              "      <th>4</th>\n",
              "      <td>I know that's an incredible statement, but bea...</td>\n",
              "      <td>1</td>\n",
              "    </tr>\n",
              "  </tbody>\n",
              "</table>\n",
              "</div>"
            ],
            "text/plain": [
              "                                             Message  Spam Status\n",
              "0  Free-Coupons for next movie. The above links w...            1\n",
              "1  Free-Coupons for next movie. The above links w...            1\n",
              "2  Enter to win $25,000 and get a Free Hotel Nigh...            1\n",
              "3  Dear recipient,Avangar Technologies announces ...            1\n",
              "4  I know that's an incredible statement, but bea...            1"
            ]
          },
          "metadata": {},
          "execution_count": 15
        }
      ]
    },
    {
      "cell_type": "code",
      "metadata": {
        "colab": {
          "base_uri": "https://localhost:8080/"
        },
        "id": "ZnZdkfn2avk1",
        "outputId": "3c1225a5-e19a-4c16-d051-95e6cf23991d"
      },
      "source": [
        "dataframe.shape"
      ],
      "execution_count": 16,
      "outputs": [
        {
          "output_type": "execute_result",
          "data": {
            "text/plain": [
              "(5, 2)"
            ]
          },
          "metadata": {},
          "execution_count": 16
        }
      ]
    },
    {
      "cell_type": "code",
      "metadata": {
        "colab": {
          "base_uri": "https://localhost:8080/"
        },
        "id": "eMCg0E0VayoO",
        "outputId": "75dd6a90-921c-491d-a05d-d2c0a91c7437"
      },
      "source": [
        "dataframe.head"
      ],
      "execution_count": 17,
      "outputs": [
        {
          "output_type": "execute_result",
          "data": {
            "text/plain": [
              "<bound method NDFrame.head of                                              Message  Spam Status\n",
              "0  Free-Coupons for next movie. The above links w...            1\n",
              "1  Free-Coupons for next movie. The above links w...            1\n",
              "2  Enter to win $25,000 and get a Free Hotel Nigh...            1\n",
              "3  Dear recipient,Avangar Technologies announces ...            1\n",
              "4  I know that's an incredible statement, but bea...            1>"
            ]
          },
          "metadata": {},
          "execution_count": 17
        }
      ]
    },
    {
      "cell_type": "code",
      "metadata": {
        "id": "ZtlN1t5aa3U8"
      },
      "source": [
        "from collections import Counter\n",
        "from sklearn.naive_bayes import MultinomialNB, GaussianNB, BernoulliNB\n",
        "from sklearn.svm import SVC, NuSVC, LinearSVC"
      ],
      "execution_count": 18,
      "outputs": []
    },
    {
      "cell_type": "code",
      "metadata": {
        "id": "TNT-khJwa6Fo"
      },
      "source": [
        "X=dataframe['Message']\n",
        "Y=dataframe['Spam Status']"
      ],
      "execution_count": 20,
      "outputs": []
    },
    {
      "cell_type": "code",
      "metadata": {
        "colab": {
          "base_uri": "https://localhost:8080/"
        },
        "id": "iE46SF2Ka7Fc",
        "outputId": "7e11bcfd-36b5-410a-8362-4a091feca6c9"
      },
      "source": [
        "X"
      ],
      "execution_count": 21,
      "outputs": [
        {
          "output_type": "execute_result",
          "data": {
            "text/plain": [
              "0    Free-Coupons for next movie. The above links w...\n",
              "1    Free-Coupons for next movie. The above links w...\n",
              "2    Enter to win $25,000 and get a Free Hotel Nigh...\n",
              "3    Dear recipient,Avangar Technologies announces ...\n",
              "4    I know that's an incredible statement, but bea...\n",
              "Name: Message, dtype: object"
            ]
          },
          "metadata": {},
          "execution_count": 21
        }
      ]
    },
    {
      "cell_type": "code",
      "metadata": {
        "colab": {
          "base_uri": "https://localhost:8080/"
        },
        "id": "Pg4fBtOBa8Ur",
        "outputId": "6e64d57d-4e1c-4d77-8568-41222c7e3d54"
      },
      "source": [
        "Y"
      ],
      "execution_count": 22,
      "outputs": [
        {
          "output_type": "execute_result",
          "data": {
            "text/plain": [
              "0    1\n",
              "1    1\n",
              "2    1\n",
              "3    1\n",
              "4    1\n",
              "Name: Spam Status, dtype: int64"
            ]
          },
          "metadata": {},
          "execution_count": 22
        }
      ]
    },
    {
      "cell_type": "code",
      "metadata": {
        "id": "qXOSYS_Va_Mj"
      },
      "source": [
        "l1=X.tolist()\n",
        "vectorizer = TfidfVectorizer(\n",
        "input= l1 ,  # input is the actual text\n",
        "lowercase=True,      # convert to lowercase before tokenizing\n",
        "stop_words='english' # remove stop words\n",
        ")\n",
        "features_train_transformed = vectorizer.fit_transform(X)"
      ],
      "execution_count": 23,
      "outputs": []
    },
    {
      "cell_type": "code",
      "metadata": {
        "colab": {
          "base_uri": "https://localhost:8080/"
        },
        "id": "rKJdzUMGbBFX",
        "outputId": "566bd3fc-128b-49a5-a6ad-3ab3b8d2ed83"
      },
      "source": [
        "l1"
      ],
      "execution_count": 24,
      "outputs": [
        {
          "output_type": "execute_result",
          "data": {
            "text/plain": [
              "[\"Free-Coupons for next movie. The above links will take you straight to our partner's site. For more information or to see other offers available, you can also visit the Grouponon the Working Advantage website\",\n",
              " \"Free-Coupons for next movie. The above links will take you straight to our partner's site. For more information or to see other offers available, you can also visit the Grouponon the Working Advantage website\",\n",
              " \"Enter to win $25,000 and get a Free Hotel Night! Just click here for a $1 trial membership in NetMarket, the Internet'spremier discount shopping site:Fast Company EZVenture gives you FREE business articles,PLUS, you could win YOUR CHOICE of a BMW Z3 convertible, $100,000, shares of Microsoft stock, or a home office computer. Go there and get your chances to win now.A crazy-funny-cool trivia book with a $10,000 prize? PLUS chocolate, nail polish, cats, barnyard animals, and more?\",\n",
              " \"Dear recipient,Avangar Technologies announces the beginning of a new unprecendented global employment campaign. Due to company's exploding growth Avangar is expanding business to the European region. During last employment campaign over 1500 people worldwide took part in Avangar's businessand more than half of them are currently employed by the company. And now we are offering youone more opportunity to earn extra money working with Avangar Technologies.We are looking for honest, responsible, hard-working people that can dedicate 2-4 hours of theirtime per day and earn extra Â£300-500 weekly. All offered positions are currently part-time and give you a chance to work mainly from home\",\n",
              " 'I know that\\'s an incredible statement, but bear with me while I explain. You have already deleted mail from dozens of \"Get Rich Quick\" schemes, chain letter offers, and LOTS of other absurd scams that promise to make you rich overnight with no investment and no work. My offer isn\\'t one of those. What I\\'m offering is a straightforward computer-based service that you can run full-or part-time like a regular business. This service runs auto-matically while you sleep, vacation, or work a \"regular\" job. It provides a valuable new service for businesses in your area. I\\'m offering a high-tech, low-maintenance, work-from anywhere business that can bring in a nice comfortable additional income for your family. I did it for eight years. Since I started inviting others to join me, I\\'ve helped over 4000 do the same']"
            ]
          },
          "metadata": {},
          "execution_count": 24
        }
      ]
    },
    {
      "cell_type": "code",
      "metadata": {
        "colab": {
          "base_uri": "https://localhost:8080/"
        },
        "id": "f5cpFpI-bDt7",
        "outputId": "12a82ac5-a2b9-414c-b7c0-4d95b81a8d12"
      },
      "source": [
        "classifier = MultinomialNB()\n",
        "classifier.fit(features_train_transformed, Y)"
      ],
      "execution_count": 25,
      "outputs": [
        {
          "output_type": "execute_result",
          "data": {
            "text/plain": [
              "MultinomialNB(alpha=1.0, class_prior=None, fit_prior=True)"
            ]
          },
          "metadata": {},
          "execution_count": 25
        }
      ]
    },
    {
      "cell_type": "code",
      "metadata": {
        "colab": {
          "base_uri": "https://localhost:8080/"
        },
        "id": "kZDsjoe1bEpx",
        "outputId": "ba9a8efd-2e5d-4700-c498-653da61697cd"
      },
      "source": [
        "print(\"classifier accuracy {:.2f}%\".format(classifier.score(features_train_transformed, Y) * 100))"
      ],
      "execution_count": 26,
      "outputs": [
        {
          "output_type": "stream",
          "name": "stdout",
          "text": [
            "classifier accuracy 100.00%\n"
          ]
        }
      ]
    },
    {
      "cell_type": "code",
      "metadata": {
        "colab": {
          "base_uri": "https://localhost:8080/"
        },
        "id": "Ki3ArvQVbI6W",
        "outputId": "700f0a25-b18e-44bd-fec0-8846292cee9e"
      },
      "source": [
        "msg=\"Our records indicate your Pension is under performing to see higher growth and up to 25% cash release reply PENSION for a free review. To opt out reply STOP\"\n",
        "data = [msg]\n",
        "vect = vectorizer.transform(data).toarray()\n",
        "my_prediction = classifier.predict(vect)\n",
        "print(my_prediction)"
      ],
      "execution_count": 27,
      "outputs": [
        {
          "output_type": "stream",
          "name": "stdout",
          "text": [
            "[1]\n"
          ]
        }
      ]
    }
  ]
}